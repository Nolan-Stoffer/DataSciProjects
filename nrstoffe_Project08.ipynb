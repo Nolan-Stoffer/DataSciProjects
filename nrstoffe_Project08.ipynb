{
 "cells": [
  {
   "cell_type": "markdown",
   "metadata": {},
   "source": [
    "# Project 08"
   ]
  },
  {
   "cell_type": "markdown",
   "metadata": {},
   "source": [
    "Due 12/7, 5pm.  This project should be fairly light.\n",
    "\n",
    "1. Give a one paragraph summary on the talk by Dr. Dorr on the digitization of the Smithsonian herbarium collection.  If any \"v\"'s of big data are mentioned, be sure to address them in your summary."
   ]
  },
  {
   "cell_type": "markdown",
   "metadata": {},
   "source": [
    "This past Thursday we attended a lecture on digitization of the Smithsonian herbarium collection, given by Dr. Dorr. Generally the lecture covered the scope of an ongoing project with which Dr. Dorr is involved. The Smithsonian herbarium contains a collection of upwards of 5 million species, spanning 200 years of temporal coverage, it's the 10th largest herbarium in the world and holds about 10% of US plant life species. The herbarium collection uses vouchers, databases, morphology, anatomy, palynology, and phylogeny to categorize and identify their specimens. In 1970 the digitization initiative occurred, meaning that instead of keeping records and specimens on paper, herbariums would start to store them digitally in order to maintain data more efficiently.  Starting in 2001 images were included in these digitizations of specimens, and after 2016 herbaria were using conveyor belt technology to efficiently store specimens digitally.  Currently according to Dr. Dorr and the projects with which he is involved, the Smithsonian herbarium Collection has 3 million inventory records with 2 million in a fully digital format.  On a good day 4000 specimens can be converted to digital representations. Dr. Dorr also mentioned briefly how Machine and Supervised learning are currently being used to determine the cleanliness of specimens.  Cleanliness involves the amount of Mercury and other foreign material are present in the digitization of specimens."
   ]
  },
  {
   "cell_type": "markdown",
   "metadata": {},
   "source": []
  },
  {
   "cell_type": "markdown",
   "metadata": {},
   "source": [
    "2. Generate a network plot of the following adjacency matrix\n",
    "\\begin{align}\n",
    "A = \n",
    "\\begin{bmatrix}\n",
    "0 & 1 & 0 & 1 & 0 & 1 \\\\\n",
    "1 & 0 & 1 & 0 & 0 & 1 \\\\\n",
    "0 & 1 & 0 & 0 & 1 & 1 \\\\\n",
    "1 & 0 & 0 & 0 & 0 & 0 \\\\\n",
    "0 & 0 & 1 & 0 & 0 & 1 \\\\\n",
    "1 & 1 & 1 & 0 & 1 & 0 \n",
    "\\end{bmatrix}\n",
    "\\end{align}"
   ]
  },
  {
   "cell_type": "code",
   "execution_count": 1,
   "metadata": {},
   "outputs": [],
   "source": [
    "import networkx as nx\n",
    "import numpy as np\n",
    "import matplotlib.pyplot as plt"
   ]
  },
  {
   "cell_type": "code",
   "execution_count": 2,
   "metadata": {},
   "outputs": [],
   "source": [
    "# Empty graph creation\n",
    "NRS = nx.Graph()\n",
    "# Adding nodes to empty graph\n",
    "NRS.add_nodes_from(['A','B','C','D','E','F'])\n",
    "# Adding edges between nodes\n",
    "NRS.add_weighted_edges_from([('A','B',1),('A','D',1),('A','F',1),('B','C',1),('B','F',1),('C','E',1),('C','F',1),('E','F',1)])"
   ]
  },
  {
   "cell_type": "code",
   "execution_count": 3,
   "metadata": {},
   "outputs": [
    {
     "name": "stdout",
     "output_type": "stream",
     "text": [
      "number of nodes:  6\n",
      "number of edges:  8\n"
     ]
    }
   ],
   "source": [
    "# Printing number of nodes and number of edges present in the graph NRS\n",
    "print \"number of nodes: \", NRS.number_of_nodes()\n",
    "print \"number of edges: \", NRS.number_of_edges()"
   ]
  },
  {
   "cell_type": "code",
   "execution_count": 4,
   "metadata": {},
   "outputs": [
    {
     "data": {
      "image/png": "[encoded data removed]",
      "text/plain": [
       "<Figure size 432x288 with 1 Axes>"
      ]
     },
     "metadata": {},
     "output_type": "display_data"
    }
   ],
   "source": [
    "# Visualizaiton of the graph NRS\n",
    "nx.draw(NRS, with_labels=True, font_weight='bold')"
   ]
  },
  {
   "cell_type": "code",
   "execution_count": 5,
   "metadata": {},
   "outputs": [
    {
     "data": {
      "text/plain": [
       "['A', 'C', 'B', 'E', 'D', 'F']"
      ]
     },
     "execution_count": 5,
     "metadata": {},
     "output_type": "execute_result"
    }
   ],
   "source": [
    "# List of all nodes within graph NRS\n",
    "list(NRS.nodes)"
   ]
  },
  {
   "cell_type": "code",
   "execution_count": 6,
   "metadata": {},
   "outputs": [
    {
     "data": {
      "text/plain": [
       "[('A', 'B'),\n",
       " ('A', 'D'),\n",
       " ('A', 'F'),\n",
       " ('C', 'B'),\n",
       " ('C', 'E'),\n",
       " ('C', 'F'),\n",
       " ('B', 'F'),\n",
       " ('E', 'F')]"
      ]
     },
     "execution_count": 6,
     "metadata": {},
     "output_type": "execute_result"
    }
   ],
   "source": [
    "# List of all edges within graph NRS\n",
    "list(NRS.edges)"
   ]
  },
  {
   "cell_type": "code",
   "execution_count": 7,
   "metadata": {},
   "outputs": [
    {
     "name": "stdout",
     "output_type": "stream",
     "text": [
      "Degree of Node: A = 3\n",
      "Degree of Node: B = 3\n",
      "Degree of Node: C = 3\n",
      "Degree of Node: D = 1\n",
      "Degree of Node: E = 2\n",
      "Degree of Node: F = 4\n"
     ]
    }
   ],
   "source": [
    "# Listing degrees of all nodes in graph NRS\n",
    "print \"Degree of Node: A =\", NRS.degree('A')\n",
    "print \"Degree of Node: B =\", NRS.degree('B')\n",
    "print \"Degree of Node: C =\", NRS.degree('C')\n",
    "print \"Degree of Node: D =\", NRS.degree('D')\n",
    "print \"Degree of Node: E =\", NRS.degree('E')\n",
    "print \"Degree of Node: F =\", NRS.degree('F')"
   ]
  },
  {
   "cell_type": "code",
   "execution_count": 8,
   "metadata": {},
   "outputs": [
    {
     "name": "stdout",
     "output_type": "stream",
     "text": [
      "Neighbors for Node: A = ['B', 'D', 'F']\n",
      "Neighbors for Node: B = ['A', 'C', 'F']\n",
      "Neighbors for Node: C = ['B', 'E', 'F']\n",
      "Neighbors for Node: D = ['A']\n",
      "Neighbors for Node: E = ['C', 'F']\n",
      "Neighbors for Node: F = ['A', 'C', 'B', 'E']\n"
     ]
    }
   ],
   "source": [
    "# Listing all neighbors for nodes in graph NRS\n",
    "print \"Neighbors for Node: A =\", list(NRS.neighbors('A'))\n",
    "print \"Neighbors for Node: B =\", list(NRS.neighbors('B'))\n",
    "print \"Neighbors for Node: C =\", list(NRS.neighbors('C'))\n",
    "print \"Neighbors for Node: D =\", list(NRS.neighbors('D'))\n",
    "print \"Neighbors for Node: E =\", list(NRS.neighbors('E'))\n",
    "print \"Neighbors for Node: F =\", list(NRS.neighbors('F'))"
   ]
  },
  {
   "cell_type": "markdown",
   "metadata": {},
   "source": [
    "3. Compute the four centrality measures we discussed, applied the above matrix\n",
    "    - degree centrality\n",
    "    - closeness centrality\n",
    "    - betweenness centrality\n",
    "    - eigenvector centrality"
   ]
  },
  {
   "cell_type": "code",
   "execution_count": 9,
   "metadata": {},
   "outputs": [
    {
     "name": "stdout",
     "output_type": "stream",
     "text": [
      "degree centrality:  {'A': 0.6000000000000001, 'C': 0.6000000000000001, 'B': 0.6000000000000001, 'E': 0.4, 'D': 0.2, 'F': 0.8}\n",
      "betweenness  centrality:  {'A': 0.4, 'C': 0.05, 'B': 0.1, 'E': 0.0, 'D': 0.0, 'F': 0.35000000000000003}\n",
      "closeness  centrality:  {'A': 0.7142857142857143, 'C': 0.625, 'B': 0.7142857142857143, 'E': 0.5555555555555556, 'D': 0.45454545454545453, 'F': 0.8333333333333334}\n",
      "eigenvector  centrality:  {'A': 0.3834327635729094, 'C': 0.45310115951559804, 'B': 0.46493880333267035, 'E': 0.3363097865225342, 'D': 0.12862901683739722, 'F': 0.5494186634404209}\n"
     ]
    }
   ],
   "source": [
    "# Degree Centrality Calculation for graph NRS\n",
    "degree_cent = nx.degree_centrality(NRS)\n",
    "print \"degree centrality: \", degree_cent\n",
    "\n",
    "# Betweenness Centrality Calculation for graph NRS\n",
    "between_cent = nx.betweenness_centrality(NRS)\n",
    "print \"betweenness  centrality: \", between_cent\n",
    "\n",
    "# Closeness Centrality Calculation for graph NRS\n",
    "closeness_cent = nx.closeness_centrality(NRS)\n",
    "print \"closeness  centrality: \", closeness_cent\n",
    "\n",
    "# Eigenvector Centrality Calculation for graph NRS\n",
    "eigen_cent = nx.eigenvector_centrality(NRS)\n",
    "print \"eigenvector  centrality: \", eigen_cent"
   ]
  },
  {
   "cell_type": "markdown",
   "metadata": {},
   "source": [
    "4. I was catching up on my sports news, http://www.espn.com/mens-college-basketball/story/_/id/25385890/no-1-ohio-state-ncaa-initial-net-basketball-ratings-raise-questions, and thought to myself, I wonder how i would interpret the framework behind the \"NET\" rankings in terms of a network, and if my resulting data visualization would portray the findings of that ranking in a consistent fashion.    This is an open-ended question with no specific right or wrong answer; it is merely designed to have you think about how you might migrate from thinking about tabular data to thinking about networks.  \n",
    "    - If you were to get your hands on the data used behind NET (e.g., team, game scores, conference, etc... ), describe one way in which you could interpret the data as a network.\n",
    "    - What might a centrality measure indicate based on your network?"
   ]
  },
  {
   "cell_type": "markdown",
   "metadata": {},
   "source": [
    "### Question 4 Part 1\n",
    "We could interpret the data as a network by assigning each of the columns in the NCAA NET score table to a node in the network, and relate Record with the game scores such as home, road, neutral, and non divisional, and relating Record itself to Rank.  Additionally we can relate the School, Conference, and previous nodes directly with each other and with the rank node. I have done this below with arbitrary weights for edges to give a streamlined interpretation of the data fields in a network."
   ]
  },
  {
   "cell_type": "code",
   "execution_count": 39,
   "metadata": {},
   "outputs": [],
   "source": [
    "# Empty graph creation\n",
    "NCAA = nx.Graph()\n",
    "# Adding nodes to empty graph\n",
    "NCAA.add_nodes_from(['School','Conference','Rank','Previous','Record','Road','Neutral','Home','Non-Div'])\n",
    "# Adding edges between nodes\n",
    "NCAA.add_weighted_edges_from([('Rank','Conference',2),('School','Previous',1),('Rank','Previous',2),('Rank','Record',4),('Road','Neutral',1),('Road','Home',1),('Non-Div','Home',1),('Previous','Conference',1),('Road','Non-Div',1),('Non-Div','Neutral',1),('Neutral','Home',1),('Record','Road',2),('Record','Neutral',2),('Record','Home',2),('Record','Non-Div',2),('Rank','School',2),('Conference','School',1)])"
   ]
  },
  {
   "cell_type": "code",
   "execution_count": 40,
   "metadata": {},
   "outputs": [
    {
     "name": "stdout",
     "output_type": "stream",
     "text": [
      "number of nodes:  9\n",
      "number of edges:  17\n"
     ]
    },
    {
     "data": {
      "image/png": "[encoded data removed]",
      "text/plain": [
       "<Figure size 432x288 with 1 Axes>"
      ]
     },
     "metadata": {},
     "output_type": "display_data"
    }
   ],
   "source": [
    "print \"number of nodes: \", NCAA.number_of_nodes()\n",
    "print \"number of edges: \", NCAA.number_of_edges()\n",
    "nx.draw(NCAA, with_labels=True, font_weight='bold')"
   ]
  },
  {
   "cell_type": "code",
   "execution_count": 41,
   "metadata": {},
   "outputs": [
    {
     "data": {
      "text/plain": [
       "['Conference',\n",
       " 'School',\n",
       " 'Rank',\n",
       " 'Record',\n",
       " 'Neutral',\n",
       " 'Non-Div',\n",
       " 'Home',\n",
       " 'Road',\n",
       " 'Previous']"
      ]
     },
     "execution_count": 41,
     "metadata": {},
     "output_type": "execute_result"
    }
   ],
   "source": [
    "# List of all nodes within graph NCAA\n",
    "list(NCAA.nodes)"
   ]
  },
  {
   "cell_type": "code",
   "execution_count": 42,
   "metadata": {},
   "outputs": [
    {
     "data": {
      "text/plain": [
       "[('Conference', 'School'),\n",
       " ('Conference', 'Rank'),\n",
       " ('Conference', 'Previous'),\n",
       " ('School', 'Rank'),\n",
       " ('School', 'Previous'),\n",
       " ('Rank', 'Record'),\n",
       " ('Rank', 'Previous'),\n",
       " ('Record', 'Non-Div'),\n",
       " ('Record', 'Home'),\n",
       " ('Record', 'Neutral'),\n",
       " ('Record', 'Road'),\n",
       " ('Neutral', 'Non-Div'),\n",
       " ('Neutral', 'Home'),\n",
       " ('Neutral', 'Road'),\n",
       " ('Non-Div', 'Home'),\n",
       " ('Non-Div', 'Road'),\n",
       " ('Home', 'Road')]"
      ]
     },
     "execution_count": 42,
     "metadata": {},
     "output_type": "execute_result"
    }
   ],
   "source": [
    "# List of all edges within graph NCAA\n",
    "list(NCAA.edges)"
   ]
  },
  {
   "cell_type": "code",
   "execution_count": 43,
   "metadata": {},
   "outputs": [
    {
     "name": "stdout",
     "output_type": "stream",
     "text": [
      "Degree of Node: Rank = 4\n",
      "Degree of Node: Previous = 3\n",
      "Degree of Node: School = 3\n",
      "Degree of Node: Conference = 3\n",
      "Degree of Node: Record = 5\n",
      "Degree of Node: Road = 4\n",
      "Degree of Node: Neutral = 4\n",
      "Degree of Node: Home = 4\n",
      "Degree of Node: Non-Div = 4\n"
     ]
    }
   ],
   "source": [
    "# Listing degrees of all nodes in graph NCAA\n",
    "print \"Degree of Node: Rank =\", NCAA.degree('Rank')\n",
    "print \"Degree of Node: Previous =\", NCAA.degree('Previous')\n",
    "print \"Degree of Node: School =\", NCAA.degree('School')\n",
    "print \"Degree of Node: Conference =\", NCAA.degree('Conference')\n",
    "print \"Degree of Node: Record =\", NCAA.degree('Record')\n",
    "print \"Degree of Node: Road =\", NCAA.degree('Road')\n",
    "print \"Degree of Node: Neutral =\", NCAA.degree('Neutral')\n",
    "print \"Degree of Node: Home =\", NCAA.degree('Home')\n",
    "print \"Degree of Node: Non-Div =\", NCAA.degree('Non-Div')"
   ]
  },
  {
   "cell_type": "code",
   "execution_count": 44,
   "metadata": {},
   "outputs": [
    {
     "name": "stdout",
     "output_type": "stream",
     "text": [
      "Neighbors for Node: Rank = ['Conference', 'Record', 'School', 'Previous']\n",
      "Neighbors for Node: Previous = ['Conference', 'School', 'Rank']\n",
      "Neighbors for Node: School = ['Conference', 'Rank', 'Previous']\n",
      "Neighbors for Node: Conference = ['School', 'Rank', 'Previous']\n",
      "Neighbors for Node: Record = ['Non-Div', 'Home', 'Neutral', 'Road', 'Rank']\n",
      "Neighbors for Node: Road = ['Non-Div', 'Home', 'Neutral', 'Record']\n",
      "Neighbors for Node: Neutral = ['Non-Div', 'Home', 'Road', 'Record']\n",
      "Neighbors for Node: Home = ['Non-Div', 'Record', 'Neutral', 'Road']\n",
      "Neighbors for Node: Non-Div = ['Home', 'Neutral', 'Road', 'Record']\n"
     ]
    }
   ],
   "source": [
    "# Listing all neighbors for nodes in graph NCAA\n",
    "print \"Neighbors for Node: Rank =\", list(NCAA.neighbors('Rank'))\n",
    "print \"Neighbors for Node: Previous =\", list(NCAA.neighbors('Previous'))\n",
    "print \"Neighbors for Node: School =\", list(NCAA.neighbors('School'))\n",
    "print \"Neighbors for Node: Conference =\", list(NCAA.neighbors('Conference'))\n",
    "print \"Neighbors for Node: Record =\", list(NCAA.neighbors('Record'))\n",
    "print \"Neighbors for Node: Road =\", list(NCAA.neighbors('Road'))\n",
    "print \"Neighbors for Node: Neutral =\", list(NCAA.neighbors('Neutral'))\n",
    "print \"Neighbors for Node: Home =\", list(NCAA.neighbors('Home'))\n",
    "print \"Neighbors for Node: Non-Div =\", list(NCAA.neighbors('Non-Div'))"
   ]
  },
  {
   "cell_type": "code",
   "execution_count": 45,
   "metadata": {},
   "outputs": [
    {
     "name": "stdout",
     "output_type": "stream",
     "text": [
      "degree centrality:  {'Conference': 0.375, 'School': 0.375, 'Rank': 0.5, 'Record': 0.625, 'Neutral': 0.5, 'Non-Div': 0.5, 'Home': 0.5, 'Road': 0.5, 'Previous': 0.375}\n",
      "betweenness  centrality:  {'Conference': 0.0, 'School': 0.0, 'Rank': 0.5357142857142857, 'Record': 0.5714285714285714, 'Neutral': 0.0, 'Non-Div': 0.0, 'Home': 0.0, 'Road': 0.0, 'Previous': 0.0}\n",
      "closeness  centrality:  {'Conference': 0.47058823529411764, 'School': 0.47058823529411764, 'Rank': 0.6666666666666666, 'Record': 0.7272727272727273, 'Neutral': 0.5333333333333333, 'Non-Div': 0.5333333333333333, 'Home': 0.5333333333333333, 'Road': 0.5333333333333333, 'Previous': 0.47058823529411764}\n",
      "eigenvector  centrality:  {'Conference': 0.08430452312859066, 'School': 0.08430452312859066, 'Rank': 0.17539814992772634, 'Record': 0.4628106811796544, 'Neutral': 0.42828728808129995, 'Non-Div': 0.42828728808129995, 'Home': 0.42828728808129995, 'Road': 0.42828728808129995, 'Previous': 0.08430452312859066}\n"
     ]
    }
   ],
   "source": [
    "# Degree Centrality Calculation for graph NCAA\n",
    "degree_cent = nx.degree_centrality(NCAA)\n",
    "print \"degree centrality: \", degree_cent\n",
    "\n",
    "# Betweenness Centrality Calculation for graph NCAA\n",
    "between_cent = nx.betweenness_centrality(NCAA)\n",
    "print \"betweenness  centrality: \", between_cent\n",
    "\n",
    "# Closeness Centrality Calculation for graph NCAA\n",
    "closeness_cent = nx.closeness_centrality(NCAA)\n",
    "print \"closeness  centrality: \", closeness_cent\n",
    "\n",
    "# Eigenvector Centrality Calculation for graph NCAA\n",
    "eigen_cent = nx.eigenvector_centrality(NCAA)\n",
    "print \"eigenvector  centrality: \", eigen_cent"
   ]
  },
  {
   "cell_type": "markdown",
   "metadata": {},
   "source": [
    "### Question 4 Part 2\n",
    "Based on the network that I developed: Degree Centrality indicates scores related to record have the same centrailty and scores related to history and identification have the same centrality.  The same can be said for Eigen Vector Centrality and Closeness Centrality.  In Betweenness centrality only Rank and Record have scores not equal to zero, and their scores match. \n",
    "\n",
    "These measures could indicate that the record and history play similar roles in the rank of a team in a given year.  Obviously the rank score in a given year is influenced more by the record of the team in that particular season.  That being said, the school, conference and previous season rank also play a role in determining the rank for a team in the current season.  "
   ]
  }
 ],
 "metadata": {
  "kernelspec": {
   "display_name": "Python 2",
   "language": "python",
   "name": "python2"
  },
  "language_info": {
   "codemirror_mode": {
    "name": "ipython",
    "version": 2
   },
   "file_extension": ".py",
   "mimetype": "text/x-python",
   "name": "python",
   "nbconvert_exporter": "python",
   "pygments_lexer": "ipython2",
   "version": "2.7.5"
  }
 },
 "nbformat": 4,
 "nbformat_minor": 2
}
